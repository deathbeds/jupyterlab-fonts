{
 "cells": [
  {
   "cell_type": "markdown",
   "id": "110881cb-5284-4d04-88a3-90c9a5f29909",
   "metadata": {
    "editable": true,
    "slideshow": {
     "slide_type": ""
    },
    "tags": [
     "sticky"
    ]
   },
   "source": [
    "# hello `jupyterlab-fonts`"
   ]
  },
  {
   "cell_type": "markdown",
   "id": "39251a21-2151-46ff-908e-e6facb8fa03a",
   "metadata": {
    "editable": true,
    "slideshow": {
     "slide_type": ""
    },
    "tags": []
   },
   "source": [
    "`jupyterlab-fonts` provides a subset of [JSS](https://cssinjs.org), stored in JupyterLab settings and Notebook metadata."
   ]
  },
  {
   "cell_type": "markdown",
   "id": "cfe7980f-aadf-45d4-98ec-23899d1b3075",
   "metadata": {},
   "source": [
    "## In Settings\n",
    "\n",
    "The entire JupyterLab UI can be configured through the _Advanced JSON Settings Editor_."
   ]
  },
  {
   "cell_type": "markdown",
   "id": "3ba0140f-2548-4093-a841-2b10da2393ff",
   "metadata": {},
   "source": [
    "## In Notebooks\n",
    "\n",
    "Notebooks can be styled in the _Property Inspector_ at both the _Notebook_ and _Cell_ level.\n",
    "\n",
    "These styles will only propagate to the notebook that defines them."
   ]
  },
  {
   "cell_type": "markdown",
   "id": "9e0b33c4-f4c0-45a7-8809-8afc1196fa12",
   "metadata": {},
   "source": [
    "### `data-jpf-*`\n",
    "\n",
    "To enable rich, portable, and isolated customization, a number of DOM attributes are added."
   ]
  },
  {
   "cell_type": "markdown",
   "id": "98c268bd-615a-4886-94ba-509b918d9d7b",
   "metadata": {},
   "source": [
    "#### `data-jpf-cell-id`\n",
    "\n",
    "Each notebook cell is given its id, as provided in the `cell_id` attribute."
   ]
  },
  {
   "cell_type": "markdown",
   "id": "a2ce5767-0919-4b7b-8d36-390327c46155",
   "metadata": {},
   "source": [
    "#### `data-jpf-tags`\n",
    "\n",
    "Each notebook cell is given its cell metadata `tags`, as a sorted, comma-delimited list (with leading and trailing commas). This allows for composing tag selectors with the `*=` operator."
   ]
  },
  {
   "cell_type": "markdown",
   "id": "414d68e9-5fe2-45e0-a4fd-5946ba60a34e",
   "metadata": {},
   "source": [
    "##### Escaping `,`\n",
    "\n",
    "Unfortunately, when used in attribute selectors, the comma character `,` must be escaped as `\\2C`, which, in JSON, must be _further_ escaped as `\\\\2C`. For example, this notebook usese a `sticky` tag:\n",
    "\n",
    "```json\n",
    "\"[data-jpf-cell-tags*='\\\\2Csticky\\\\2C'] .jp-RenderedMarkdown\": {\n",
    "    // ...\n",
    "}\n",
    "```"
   ]
  },
  {
   "cell_type": "markdown",
   "id": "98f53d4a-09e3-42c5-84ee-0859272e22a4",
   "metadata": {
    "@deathbeds/jupyterlab-fonts": {
     "styles": {}
    },
    "editable": true,
    "slideshow": {
     "slide_type": ""
    },
    "tags": [
     "sticky"
    ]
   },
   "source": [
    "`jupyterlab-fonts` doesn't _yet_ support Jupyter Widgets integration. However, using CSS Variables, it is possible to capture configurable style rules in a given notebook, and modify them via dynamic content."
   ]
  },
  {
   "cell_type": "markdown",
   "id": "dd627bf9-660e-44b9-9d5c-f33877b253cb",
   "metadata": {
    "editable": true,
    "slideshow": {
     "slide_type": ""
    },
    "tags": []
   },
   "source": [
    "### Interacting with Widgets"
   ]
  },
  {
   "cell_type": "code",
   "execution_count": null,
   "id": "5118685f-762b-4c65-9910-5b19cec94f8e",
   "metadata": {
    "editable": true,
    "slideshow": {
     "slide_type": ""
    },
    "tags": []
   },
   "outputs": [],
   "source": [
    "from ipywidgets import *"
   ]
  },
  {
   "cell_type": "code",
   "execution_count": null,
   "id": "7ddee1a9-73d6-45da-b53f-bbada3275952",
   "metadata": {
    "editable": true,
    "slideshow": {
     "slide_type": ""
    },
    "tags": []
   },
   "outputs": [],
   "source": [
    "style = HTML()\n",
    "my_number = FloatSlider(description=\"--my-var\", min=0, max=10)\n",
    "my_z = SelectionSlider(options=[0, 1, 2, 4, 6, 8, 12, 16, 20, 24], description=\"--my-z\")"
   ]
  },
  {
   "cell_type": "code",
   "execution_count": null,
   "id": "141bcdb0-d870-44f4-83ad-73136d7b1d1e",
   "metadata": {
    "editable": true,
    "slideshow": {
     "slide_type": ""
    },
    "tags": []
   },
   "outputs": [],
   "source": [
    "def update_style(*_):\n",
    "    return f\"\"\"<style>:root {{ \n",
    "        --my-number: {my_number.value}; \n",
    "        --my-z: var(--jp-elevation-z{my_z.value});\n",
    "    }}</style>\"\"\"\n",
    "dlink((my_number, \"value\"), (style, \"value\"), update_style);\n",
    "dlink((my_z, \"value\"), (style, \"value\"), update_style);"
   ]
  },
  {
   "cell_type": "code",
   "execution_count": null,
   "id": "67d9fec7-75ea-4a36-85e1-c3e2d66c9434",
   "metadata": {
    "editable": true,
    "slideshow": {
     "slide_type": ""
    },
    "tags": []
   },
   "outputs": [],
   "source": [
    "HBox([my_number, my_z, style])"
   ]
  }
 ],
 "metadata": {
  "@deathbeds/jupyterlab-fonts": {
   "styles": {
    "--my-var": "calc(var(--my-number) * var(--jp-content-font-size0))",
    ".jupyter-widgets": {
     "border-radius": "var(--my-var)",
     "box-shadow": "var(--my-z)",
     "height": "unset",
     "margin": "var(--my-var)",
     "padding": "var(--my-var)"
    },
    "[data-jpf-cell-tags*='\\2Csticky\\2C'] .jp-RenderedMarkdown": {
     "background-color": "#fff4bf",
     "border": 0,
     "box-shadow": "var(--my-z)",
     "display": "block",
     "height": "16em",
     "padding": "1em",
     "position": "fixed",
     "right": "2em",
     "transform": "rotateZ(4deg)",
     "width": "16em",
     "z-index": 999
    }
   }
  },
  "kernelspec": {
   "display_name": "Python 3 (ipykernel)",
   "language": "python",
   "name": "python3"
  },
  "language_info": {
   "codemirror_mode": {
    "name": "ipython",
    "version": 3
   },
   "file_extension": ".py",
   "mimetype": "text/x-python",
   "name": "python",
   "nbconvert_exporter": "python",
   "pygments_lexer": "ipython3",
   "version": "3.11.5"
  }
 },
 "nbformat": 4,
 "nbformat_minor": 5
}
